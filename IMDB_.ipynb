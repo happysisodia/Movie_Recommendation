{
  "nbformat": 4,
  "nbformat_minor": 0,
  "metadata": {
    "colab": {
      "name": "IMDB_",
      "provenance": []
    },
    "kernelspec": {
      "name": "python3",
      "display_name": "Python 3"
    }
  },
  "cells": [
    {
      "cell_type": "code",
      "metadata": {
        "colab": {
          "base_uri": "https://localhost:8080/"
        },
        "id": "kCr2O-hZj5Vn",
        "outputId": "6ec5be4c-b36b-4e88-8c38-ad1976a65b21"
      },
      "source": [
        "from google.colab import drive\r\n",
        "drive.mount('/content/drive')"
      ],
      "execution_count": null,
      "outputs": [
        {
          "output_type": "stream",
          "text": [
            "Mounted at /content/drive\n"
          ],
          "name": "stdout"
        }
      ]
    },
    {
      "cell_type": "code",
      "metadata": {
        "id": "qz_y7mpvj6qN"
      },
      "source": [
        "import requests\r\n",
        "import re\r\n",
        "import pandas as pd\r\n",
        "import numpy as np\r\n",
        "import time\r\n",
        "from bs4 import BeautifulSoup \r\n",
        "\r\n",
        "imdb = []"
      ],
      "execution_count": null,
      "outputs": []
    },
    {
      "cell_type": "code",
      "metadata": {
        "id": "qv7r76FbkZPb"
      },
      "source": [
        "def extract():\r\n",
        "    # Genres of the movies for which the movies will be pulled\r\n",
        "    # GENRES = ['action']\r\n",
        "    GENRES = ['action', 'adventure', 'animation', 'biography', 'comedy', 'crime', 'war',\r\n",
        "\t\t\t  'drama', 'family', 'fantasy','history', 'horror', \r\n",
        "\t\t\t  'music', 'musical', 'mystery', 'romance', 'sci-fi', 'sport', 'thriller','western']\t\r\n",
        "\r\n",
        "\t# Upper Limit - How many movies should be pulled at max \r\n",
        "    upper_limit = 500000\r\n",
        "\r\n",
        "    for genre in GENRES:\r\n",
        "        movie_count_total = setMovieCountTotal(genre)\r\n",
        "\r\n",
        "        # get number of pages, 50 items per page\r\n",
        "        num_pages = int(movie_count_total / 50)\r\n",
        "        print ('Genre:\\t\\t' + genre)\r\n",
        "        print ('Num Pages:\\t' + str(num_pages))\r\n",
        "        print ()\r\n",
        "\r\n",
        "        movie_index = 1\r\n",
        "\r\n",
        "        for i in range(0, num_pages):\r\n",
        "\t\t\r\n",
        "            url = getUrl(movie_index, genre)\r\n",
        "\r\n",
        "            page = requests.get(url)\r\n",
        "            soup = BeautifulSoup(page.content, 'html.parser')\r\n",
        "\r\n",
        "            movies_article = soup.find(class_ = 'article')\r\n",
        "            movies_list = movies_article.findAll('div', {'class': 'lister-item mode-advanced'})\r\n",
        "\r\n",
        "\r\n",
        "            for movie in movies_list:\r\n",
        "                stripInfo(movie, genre)\r\n",
        "\t\t\t\r\n",
        "\r\n",
        "\r\n",
        "            if movie_index < upper_limit:\r\n",
        "                movie_index += 50\r\n",
        "            else:\r\n",
        "                break"
      ],
      "execution_count": null,
      "outputs": []
    },
    {
      "cell_type": "code",
      "metadata": {
        "id": "anPJBlvakiqe"
      },
      "source": [
        "def getUrl(_movie_count, _genre):\r\n",
        "    if (_genre == 'documentary'):\r\n",
        "        return ('https://www.imdb.com/search/title/?genres=documentary&start=' + str(_movie_count) + \r\n",
        "                '&explore=genres&ref_=adv_nxt')\r\n",
        "    else:\r\n",
        "        return ('https://www.imdb.com/search/title/?title_type=feature&genres=' + _genre + '&start=' + \r\n",
        "                str(_movie_count) + '&explore=genres&ref_=adv_nxt')\r\n"
      ],
      "execution_count": null,
      "outputs": []
    },
    {
      "cell_type": "code",
      "metadata": {
        "id": "1id0spZZlUSo"
      },
      "source": [
        "# find and calculate the number of pages to iterate through based on the number of films in the list\r\n",
        "def setMovieCountTotal(_g):\r\n",
        "    url_temp = getUrl(1, _g)\r\n",
        "    page = requests.get(url_temp)\r\n",
        "    soup = BeautifulSoup(page.content, 'html.parser')\r\n",
        "    temp = soup.find(class_='desc')\r\n",
        "\r\n",
        "    temp = temp.span.get_text().split()[2]\r\n",
        "    temp = temp.replace(',', '')\r\n",
        "    print ('total movies: ' + temp)\r\n",
        "    return int(temp)\r\n",
        "\t"
      ],
      "execution_count": null,
      "outputs": []
    },
    {
      "cell_type": "code",
      "metadata": {
        "id": "87FNTXQIlW6f"
      },
      "source": [
        "def stripInfo(_movie, _genre):\r\n",
        "\r\n",
        "    movie_id = _movie.find(class_ = 'ribbonize').get('data-tconst')\r\n",
        "\t\r\n",
        "    title = _movie.find(class_ = 'lister-item-header')\r\n",
        "    if not(title == None):\r\n",
        "        title = title.a.get_text()\r\n",
        "\r\n",
        "    classification = _movie.find(class_='certificate')\r\n",
        "    if not(classification == None):\r\n",
        "        classification = classification.get_text()\r\n",
        "\r\n",
        "    runtime = _movie.find(class_='runtime')\r\n",
        "    if not(runtime == None):\r\n",
        "        runtime = runtime.get_text().split()[0]\r\n",
        "\r\n",
        "    year = _movie.find(class_='lister-item-year text-muted unbold')\r\n",
        "    if not(year == None):\r\n",
        "        year = year.get_text()[-5:-1]\r\n",
        "\r\n",
        "        # make sure the text gather is in the YYYY format, otherwise set to None\r\n",
        "        if not(re.search('[0-9][0-9][0-9][0-9]', year)):\r\n",
        "            year = None\r\n",
        "\r\n",
        "    rating = _movie.find(class_='inline-block ratings-imdb-rating')\r\n",
        "    if not(rating == None):\r\n",
        "        rating = rating.get_text().strip()\r\n",
        "\r\n",
        "    metascore = _movie.find(class_='inline-block ratings-metascore')\r\n",
        "    if not(metascore == None):\r\n",
        "        metascore = metascore.get_text().split()[0]\r\n",
        "    \r\n",
        "    data = {\"ID\": movie_id,\r\n",
        "\t\t\t\"movie_title\": title,\r\n",
        "            \"class\": classification, \r\n",
        "            \"year\": year,\r\n",
        "            \"runtime\": runtime ,\r\n",
        "            \"rating\": rating,\r\n",
        "            \"meta\": metascore}\r\n",
        "    imdb.append(data)\t\r\n",
        "\t"
      ],
      "execution_count": null,
      "outputs": []
    },
    {
      "cell_type": "code",
      "metadata": {
        "colab": {
          "base_uri": "https://localhost:8080/"
        },
        "id": "LPJcSqH0lc9q",
        "outputId": "9392f0be-fe56-45f4-b211-560245dd331a"
      },
      "source": [
        "extract()"
      ],
      "execution_count": null,
      "outputs": [
        {
          "output_type": "stream",
          "text": [
            "total movies: 47287\n",
            "Genre:\t\taction\n",
            "Num Pages:\t945\n",
            "\n",
            "total movies: 23238\n",
            "Genre:\t\tadventure\n",
            "Num Pages:\t464\n",
            "\n",
            "total movies: 6887\n",
            "Genre:\t\tanimation\n",
            "Num Pages:\t137\n",
            "\n",
            "total movies: 6962\n",
            "Genre:\t\tbiography\n",
            "Num Pages:\t139\n",
            "\n",
            "total movies: 94018\n",
            "Genre:\t\tcomedy\n",
            "Num Pages:\t1880\n",
            "\n",
            "total movies: 31575\n",
            "Genre:\t\tcrime\n",
            "Num Pages:\t631\n",
            "\n",
            "total movies: 9151\n",
            "Genre:\t\twar\n",
            "Num Pages:\t183\n",
            "\n",
            "total movies: 196505\n",
            "Genre:\t\tdrama\n",
            "Num Pages:\t3930\n",
            "\n",
            "total movies: 14946\n",
            "Genre:\t\tfamily\n",
            "Num Pages:\t298\n",
            "\n",
            "total movies: 14615\n",
            "Genre:\t\tfantasy\n",
            "Num Pages:\t292\n",
            "\n",
            "total movies: 7815\n",
            "Genre:\t\thistory\n",
            "Num Pages:\t156\n",
            "\n",
            "total movies: 30705\n",
            "Genre:\t\thorror\n",
            "Num Pages:\t614\n",
            "\n",
            "total movies: 6564\n",
            "Genre:\t\tmusic\n",
            "Num Pages:\t131\n",
            "\n",
            "total movies: 9817\n",
            "Genre:\t\tmusical\n",
            "Num Pages:\t196\n",
            "\n",
            "total movies: 15949\n",
            "Genre:\t\tmystery\n",
            "Num Pages:\t318\n",
            "\n",
            "total movies: 46365\n",
            "Genre:\t\tromance\n",
            "Num Pages:\t927\n",
            "\n",
            "total movies: 14167\n",
            "Genre:\t\tsci-fi\n",
            "Num Pages:\t283\n",
            "\n",
            "total movies: 4543\n",
            "Genre:\t\tsport\n",
            "Num Pages:\t90\n",
            "\n",
            "total movies: 45471\n",
            "Genre:\t\tthriller\n",
            "Num Pages:\t909\n",
            "\n",
            "total movies: 8632\n",
            "Genre:\t\twestern\n",
            "Num Pages:\t172\n",
            "\n"
          ],
          "name": "stdout"
        }
      ]
    },
    {
      "cell_type": "code",
      "metadata": {
        "id": "nawa5MCTlrtZ"
      },
      "source": [
        "df = pd.DataFrame(imdb)"
      ],
      "execution_count": null,
      "outputs": []
    },
    {
      "cell_type": "code",
      "metadata": {
        "colab": {
          "base_uri": "https://localhost:8080/"
        },
        "id": "knauzYqqmNcJ",
        "outputId": "2053aa2e-2f25-4f04-e836-881307b16aca"
      },
      "source": [
        "df.shape"
      ],
      "execution_count": null,
      "outputs": [
        {
          "output_type": "execute_result",
          "data": {
            "text/plain": [
              "(634750, 7)"
            ]
          },
          "metadata": {
            "tags": []
          },
          "execution_count": 14
        }
      ]
    },
    {
      "cell_type": "code",
      "metadata": {
        "id": "Oy0eOsr-mPAA"
      },
      "source": [
        "df.to_csv('data_movie.csv',index=False)"
      ],
      "execution_count": null,
      "outputs": []
    },
    {
      "cell_type": "code",
      "metadata": {
        "colab": {
          "base_uri": "https://localhost:8080/",
          "height": 17
        },
        "id": "edPMmNGapQVG",
        "outputId": "1e25a9a1-52f8-47c0-d8a8-dba7298392c5"
      },
      "source": [
        "from google.colab import files\r\n",
        "files.download('data_movie.csv') "
      ],
      "execution_count": null,
      "outputs": [
        {
          "output_type": "display_data",
          "data": {
            "application/javascript": [
              "\n",
              "    async function download(id, filename, size) {\n",
              "      if (!google.colab.kernel.accessAllowed) {\n",
              "        return;\n",
              "      }\n",
              "      const div = document.createElement('div');\n",
              "      const label = document.createElement('label');\n",
              "      label.textContent = `Downloading \"${filename}\": `;\n",
              "      div.appendChild(label);\n",
              "      const progress = document.createElement('progress');\n",
              "      progress.max = size;\n",
              "      div.appendChild(progress);\n",
              "      document.body.appendChild(div);\n",
              "\n",
              "      const buffers = [];\n",
              "      let downloaded = 0;\n",
              "\n",
              "      const channel = await google.colab.kernel.comms.open(id);\n",
              "      // Send a message to notify the kernel that we're ready.\n",
              "      channel.send({})\n",
              "\n",
              "      for await (const message of channel.messages) {\n",
              "        // Send a message to notify the kernel that we're ready.\n",
              "        channel.send({})\n",
              "        if (message.buffers) {\n",
              "          for (const buffer of message.buffers) {\n",
              "            buffers.push(buffer);\n",
              "            downloaded += buffer.byteLength;\n",
              "            progress.value = downloaded;\n",
              "          }\n",
              "        }\n",
              "      }\n",
              "      const blob = new Blob(buffers, {type: 'application/binary'});\n",
              "      const a = document.createElement('a');\n",
              "      a.href = window.URL.createObjectURL(blob);\n",
              "      a.download = filename;\n",
              "      div.appendChild(a);\n",
              "      a.click();\n",
              "      div.remove();\n",
              "    }\n",
              "  "
            ],
            "text/plain": [
              "<IPython.core.display.Javascript object>"
            ]
          },
          "metadata": {
            "tags": []
          }
        },
        {
          "output_type": "display_data",
          "data": {
            "application/javascript": [
              "download(\"download_addd8a19-a5a5-4e07-8091-808334af650f\", \"data_movie.csv\", 27891610)"
            ],
            "text/plain": [
              "<IPython.core.display.Javascript object>"
            ]
          },
          "metadata": {
            "tags": []
          }
        }
      ]
    },
    {
      "cell_type": "code",
      "metadata": {
        "id": "2eTns0fjzrKk"
      },
      "source": [
        ""
      ],
      "execution_count": null,
      "outputs": []
    }
  ]
}