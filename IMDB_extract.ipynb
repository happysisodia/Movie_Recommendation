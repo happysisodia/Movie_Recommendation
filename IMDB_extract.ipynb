{
  "nbformat": 4,
  "nbformat_minor": 0,
  "metadata": {
    "colab": {
      "name": "IMDB_extract.ipynb",
      "provenance": [],
      "collapsed_sections": []
    },
    "kernelspec": {
      "display_name": "Python 3",
      "name": "python3"
    }
  },
  "cells": [
    {
      "cell_type": "code",
      "metadata": {
        "colab": {
          "base_uri": "https://localhost:8080/"
        },
        "id": "73_hnnLDT-7b",
        "outputId": "c1ebd547-272b-45e4-92bc-d34909404b08"
      },
      "source": [
        "from google.colab import drive\r\n",
        "drive.mount('/content/drive')"
      ],
      "execution_count": null,
      "outputs": [
        {
          "output_type": "stream",
          "text": [
            "Mounted at /content/drive\n"
          ],
          "name": "stdout"
        }
      ]
    },
    {
      "cell_type": "code",
      "metadata": {
        "id": "7IHnPtcOT_6C"
      },
      "source": [
        "import requests\r\n",
        "import re\r\n",
        "import pandas as pd\r\n",
        "import numpy as np\r\n",
        "import time\r\n",
        "import io\r\n",
        "from bs4 import BeautifulSoup "
      ],
      "execution_count": null,
      "outputs": []
    },
    {
      "cell_type": "code",
      "metadata": {
        "colab": {
          "resources": {
            "http://localhost:8080/nbextensions/google.colab/files.js": {
              "data": "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",
              "ok": true,
              "headers": [
                [
                  "content-type",
                  "application/javascript"
                ]
              ],
              "status": 200,
              "status_text": ""
            }
          },
          "base_uri": "https://localhost:8080/",
          "height": 73
        },
        "id": "OLttWZ6QV3CX",
        "outputId": "91c61112-19be-4c15-fe53-4ba08cfeb8a5"
      },
      "source": [
        "from google.colab import files\r\n",
        "uploaded = files.upload()"
      ],
      "execution_count": null,
      "outputs": [
        {
          "output_type": "display_data",
          "data": {
            "text/html": [
              "\n",
              "     <input type=\"file\" id=\"files-deba78b8-82ee-46fd-9789-9bcdec9be9b7\" name=\"files[]\" multiple disabled\n",
              "        style=\"border:none\" />\n",
              "     <output id=\"result-deba78b8-82ee-46fd-9789-9bcdec9be9b7\">\n",
              "      Upload widget is only available when the cell has been executed in the\n",
              "      current browser session. Please rerun this cell to enable.\n",
              "      </output>\n",
              "      <script src=\"/nbextensions/google.colab/files.js\"></script> "
            ],
            "text/plain": [
              "<IPython.core.display.HTML object>"
            ]
          },
          "metadata": {
            "tags": []
          }
        },
        {
          "output_type": "stream",
          "text": [
            "Saving notincomb.csv to notincomb.csv\n"
          ],
          "name": "stdout"
        }
      ]
    },
    {
      "cell_type": "code",
      "metadata": {
        "id": "t7E0PrZaWBwO"
      },
      "source": [
        "#df_movie_final = pd.read_csv(io.BytesIO(uploaded['data_moviefinal.csv']))\r\n",
        "df_movie_final = pd.read_csv('notincomb.csv')"
      ],
      "execution_count": null,
      "outputs": []
    },
    {
      "cell_type": "code",
      "metadata": {
        "colab": {
          "base_uri": "https://localhost:8080/"
        },
        "id": "IJ1RbOFxWTKq",
        "outputId": "7bc1d7a7-0921-4dab-f1b0-b44b7a1752fe"
      },
      "source": [
        "df_movie_final.shape"
      ],
      "execution_count": null,
      "outputs": [
        {
          "output_type": "execute_result",
          "data": {
            "text/plain": [
              "(12, 7)"
            ]
          },
          "metadata": {
            "tags": []
          },
          "execution_count": 5
        }
      ]
    },
    {
      "cell_type": "code",
      "metadata": {
        "colab": {
          "base_uri": "https://localhost:8080/",
          "height": 195
        },
        "id": "8ZeDX2olWVZn",
        "outputId": "163e3014-6092-4454-86d8-1f6524992919"
      },
      "source": [
        "df_movie_final.head()"
      ],
      "execution_count": null,
      "outputs": [
        {
          "output_type": "execute_result",
          "data": {
            "text/html": [
              "<div>\n",
              "<style scoped>\n",
              "    .dataframe tbody tr th:only-of-type {\n",
              "        vertical-align: middle;\n",
              "    }\n",
              "\n",
              "    .dataframe tbody tr th {\n",
              "        vertical-align: top;\n",
              "    }\n",
              "\n",
              "    .dataframe thead th {\n",
              "        text-align: right;\n",
              "    }\n",
              "</style>\n",
              "<table border=\"1\" class=\"dataframe\">\n",
              "  <thead>\n",
              "    <tr style=\"text-align: right;\">\n",
              "      <th></th>\n",
              "      <th>ID</th>\n",
              "      <th>movie_title</th>\n",
              "      <th>class</th>\n",
              "      <th>year</th>\n",
              "      <th>runtime</th>\n",
              "      <th>rating</th>\n",
              "      <th>meta</th>\n",
              "    </tr>\n",
              "  </thead>\n",
              "  <tbody>\n",
              "    <tr>\n",
              "      <th>0</th>\n",
              "      <td>tt8196692</td>\n",
              "      <td>Soul Hunters</td>\n",
              "      <td>NaN</td>\n",
              "      <td>2019.0</td>\n",
              "      <td>101.0</td>\n",
              "      <td>6.8</td>\n",
              "      <td>NaN</td>\n",
              "    </tr>\n",
              "    <tr>\n",
              "      <th>1</th>\n",
              "      <td>tt0179196</td>\n",
              "      <td>Goodbye, 20th Century</td>\n",
              "      <td>NaN</td>\n",
              "      <td>1998.0</td>\n",
              "      <td>83.0</td>\n",
              "      <td>6.8</td>\n",
              "      <td>NaN</td>\n",
              "    </tr>\n",
              "    <tr>\n",
              "      <th>2</th>\n",
              "      <td>tt6871448</td>\n",
              "      <td>Lollos 7 Laat die bene bewe</td>\n",
              "      <td>NaN</td>\n",
              "      <td>2015.0</td>\n",
              "      <td>77.0</td>\n",
              "      <td>NaN</td>\n",
              "      <td>NaN</td>\n",
              "    </tr>\n",
              "    <tr>\n",
              "      <th>3</th>\n",
              "      <td>tt0114011</td>\n",
              "      <td>Now and Then</td>\n",
              "      <td>PG-13</td>\n",
              "      <td>1995.0</td>\n",
              "      <td>100.0</td>\n",
              "      <td>6.8</td>\n",
              "      <td>50.0</td>\n",
              "    </tr>\n",
              "    <tr>\n",
              "      <th>4</th>\n",
              "      <td>tt8170902</td>\n",
              "      <td>Qué León</td>\n",
              "      <td>PG-13</td>\n",
              "      <td>2018.0</td>\n",
              "      <td>93.0</td>\n",
              "      <td>6.2</td>\n",
              "      <td>NaN</td>\n",
              "    </tr>\n",
              "  </tbody>\n",
              "</table>\n",
              "</div>"
            ],
            "text/plain": [
              "          ID                  movie_title  class    year  runtime  rating  meta\n",
              "0  tt8196692                 Soul Hunters    NaN  2019.0    101.0     6.8   NaN\n",
              "1  tt0179196        Goodbye, 20th Century    NaN  1998.0     83.0     6.8   NaN\n",
              "2  tt6871448  Lollos 7 Laat die bene bewe    NaN  2015.0     77.0     NaN   NaN\n",
              "3  tt0114011                 Now and Then  PG-13  1995.0    100.0     6.8  50.0\n",
              "4  tt8170902                     Qué León  PG-13  2018.0     93.0     6.2   NaN"
            ]
          },
          "metadata": {
            "tags": []
          },
          "execution_count": 6
        }
      ]
    },
    {
      "cell_type": "code",
      "metadata": {
        "id": "y1fxZ2u_WXQ4"
      },
      "source": [
        "data_final = []\r\n",
        "num_range = df_movie_final.shape[0]\r\n",
        "for i in range(0,num_range):\r\n",
        "    \r\n",
        "    url = \"https://www.imdb.com/title/\" + df_movie_final.ID[i]\r\n",
        "    Id = df_movie_final.ID[i]\r\n",
        "    \r\n",
        "    #intialize variables\r\n",
        "    poster      = ''\r\n",
        "    budget      = ''\r\n",
        "    genre       = '' \r\n",
        "    Director    = ''\r\n",
        "    language    = ''\r\n",
        "    Keywords    = '' \r\n",
        "    tagl        = ''\r\n",
        "    mpaac       = ''\r\n",
        "    budget      = ''\r\n",
        "    revenue     = ''\r\n",
        "    description = ''\r\n",
        "    Actors      = ''\r\n",
        "    writer      = ''\r\n",
        "    ratingCount = ''\r\n",
        "    company     = ''\r\n",
        "    genres      = []\r\n",
        "    \r\n",
        "\r\n",
        "    page = requests.get(url)\r\n",
        "    soup = BeautifulSoup(page.content,'html.parser')\r\n",
        "\r\n",
        "    # Poster Link\r\n",
        "    poster = soup.find('div',{'class': 'poster'})\r\n",
        "    if not(poster == None):   \r\n",
        "        poster = poster.find('img')\r\n",
        "        poster = poster.get('src')\r\n",
        "\r\n",
        "    # Movie Summary \r\n",
        "    for i in soup.find_all('div',{'class': 'summary_text'}):\r\n",
        "        i = i.text\r\n",
        "        description = i.strip()\r\n",
        "\r\n",
        "    #Director , writer and actors of the movie\r\n",
        "    plot_summaryDirector = soup.find('div',{'class': 'plot_summary'})\r\n",
        "    Director = []\r\n",
        "    Actors   = []\r\n",
        "    writer   = [] \r\n",
        "    if not(plot_summaryDirector == None):\r\n",
        "      for i in plot_summaryDirector.find_all('div',{'class': 'credit_summary_item'}):\r\n",
        "          i = i.text\r\n",
        "          i = i.strip()\r\n",
        "          if \"Director:\" in i:\r\n",
        "              Director = i[10:]\r\n",
        "              Director = Director.split(',')\r\n",
        "              Director = Director\r\n",
        "          elif \"Directors:\" in i:\r\n",
        "              Director = i[11:]\r\n",
        "              Director = Director.split(',')\r\n",
        "              Director = Director\r\n",
        "          elif \"Writer:\" in i:\r\n",
        "              writer = i[8:]\r\n",
        "              writer = writer.split(',')\r\n",
        "              writer = writer\r\n",
        "          elif \"Writers:\" in i:\r\n",
        "              writer = i[9:]\r\n",
        "              writer = writer.split(',')\r\n",
        "              writer = writer\r\n",
        "          elif \"Stars:\" in i:\r\n",
        "              Actors = i[6:]\r\n",
        "              Actors = Actors.split('|')\r\n",
        "              Actors = Actors[0:]\r\n",
        "              s      = ([s.strip() for s in Actors])\r\n",
        "              Actors =([x for x in s if x])\r\n",
        "\r\n",
        "    # rating Count of the movie \r\n",
        "    ratingCount = soup.find(\"span\", {\"itemprop\" : \"ratingCount\"})\r\n",
        "    if not(ratingCount == None):\r\n",
        "        ratingCount = ratingCount.string\r\n",
        "    \r\n",
        "    #language list\r\n",
        "    txtblock = soup.find('div',{'id': 'titleDetails'}) \r\n",
        "    if not(txtblock == None):\r\n",
        "      for i in txtblock.find_all('div',{'class': 'txt-block'}):\r\n",
        "          i = i.text\r\n",
        "          i = i.strip()\r\n",
        "          if \"Language:\" in i:\r\n",
        "              language = i.split()\r\n",
        "              language = language[1:]\r\n",
        "              s        = ([s.strip('|') for s in language])\r\n",
        "              language =([x for x in s if x])\r\n",
        "\r\n",
        "    text1 = soup.find('div',{'id': 'titleStoryLine'})\r\n",
        "\r\n",
        "    # keywords of the movie\r\n",
        "    if not(text1 == None):    \r\n",
        "      for i in text1.find_all('div',{'class': 'see-more inline canwrap'}):\r\n",
        "          i = i.text\r\n",
        "          i = i.strip()\r\n",
        "          if \"Keywords:\" in i:\r\n",
        "              Keywords = i.split('|')\r\n",
        "              Keywords = Keywords[1:]\r\n",
        "              s        = ([s.strip() for s in Keywords])\r\n",
        "              Keywords =([x for x in s if x])\t\r\n",
        "          elif \"Genres:\" in i:\r\n",
        "              genres = i.split(':')\r\n",
        "              genres = genres[1:]\r\n",
        "              s = ([s.strip() for s in genres])\r\n",
        "              genres = ([x for x in s if x])\t\r\n",
        "              genre = genres\r\n",
        "\r\n",
        "    #tagline of the movie and motion picture Rating \r\n",
        "    if not(text1 == None):\r\n",
        "      for i in text1.find_all('div',{'class': 'txt-block'}):\r\n",
        "          i = i.text\r\n",
        "          i = i.strip()\r\n",
        "          if \"Taglines\" in i:\r\n",
        "             tagl = i\r\n",
        "             tagl = tagl[10:]\r\n",
        "          elif \"MPAA\" in i:\r\n",
        "             mpaac = i.split('|')\r\n",
        "             mpaac = mpaac[0:]\r\n",
        "\r\n",
        "\r\n",
        "    text2 = soup.find('div',{'id': 'titleDetails'})\r\n",
        "\r\n",
        "    # Budget , Revenue and the production company of the movie\r\n",
        "    if not(text2 == None):\r\n",
        "      for i in text2.find_all('div',{'class': 'txt-block'}):\r\n",
        "          i = i.text\r\n",
        "          i = i.strip()\r\n",
        "          if \"Budget:\" in i:\r\n",
        "              budget = i.split(':')\r\n",
        "              budget = budget[1:]\r\n",
        "              s      = ([s.strip() for s in budget])\r\n",
        "              budget =([x for x in s if x])\r\n",
        "          elif \"Cumulative Worldwide Gross\" in i: \r\n",
        "              revenue = i.split(':')\r\n",
        "              revenue = revenue[1:]\r\n",
        "          elif \"Production Co\" in i:\r\n",
        "              company = i.split(':')\r\n",
        "              company = company[1:]\r\n",
        "              s       = ([s.strip() for s in company])\r\n",
        "              company =([x for x in s if x])\t\r\n",
        "\r\n",
        "\r\n",
        "    data1 = {\r\n",
        "        \"ID\"                : Id,\r\n",
        "        \"Poster\"            : poster,\r\n",
        "        \"Genre\"             : genre,    \r\n",
        "        \"Director\"          : Director,\r\n",
        "        \"Language\"          : language,\r\n",
        "        \"Keywords\"          : Keywords,\r\n",
        "        \"Tagline\"           : tagl,\r\n",
        "        \"MPAA\"              : mpaac,\r\n",
        "        \"Budget\"            : budget,\r\n",
        "        \"revenue\"           : revenue,\r\n",
        "        \"Summary\"           : description,\r\n",
        "        \"Actors\"            : Actors,\r\n",
        "        \"writer\"            : writer,\r\n",
        "        \"No_of_Votes\"       : ratingCount,\r\n",
        "        \"Production_Company\": company\r\n",
        "        }\r\n",
        "    data_final.append(data1)"
      ],
      "execution_count": null,
      "outputs": []
    },
    {
      "cell_type": "code",
      "metadata": {
        "id": "OilqddDKWgsi"
      },
      "source": [
        "df = pd.DataFrame(data_final)"
      ],
      "execution_count": null,
      "outputs": []
    },
    {
      "cell_type": "code",
      "metadata": {
        "colab": {
          "base_uri": "https://localhost:8080/"
        },
        "id": "2ygwxrzBo2TG",
        "outputId": "c53702a6-19c7-45e8-80e5-d069055c44a6"
      },
      "source": [
        "df.shape"
      ],
      "execution_count": null,
      "outputs": [
        {
          "output_type": "execute_result",
          "data": {
            "text/plain": [
              "(12, 15)"
            ]
          },
          "metadata": {
            "tags": []
          },
          "execution_count": 9
        }
      ]
    },
    {
      "cell_type": "code",
      "metadata": {
        "id": "t2rHN_vwo5EE"
      },
      "source": [
        "df.to_csv('data_moviefinal_12.csv',index=False)"
      ],
      "execution_count": null,
      "outputs": []
    },
    {
      "cell_type": "code",
      "metadata": {
        "colab": {
          "base_uri": "https://localhost:8080/",
          "height": 17
        },
        "id": "HLUi3CKCG7FO",
        "outputId": "822b11d4-fc0d-40c1-d580-7a7b552c4ee8"
      },
      "source": [
        "from google.colab import files\r\n",
        "files.download('data_moviefinal_12.csv') "
      ],
      "execution_count": null,
      "outputs": [
        {
          "output_type": "display_data",
          "data": {
            "application/javascript": [
              "\n",
              "    async function download(id, filename, size) {\n",
              "      if (!google.colab.kernel.accessAllowed) {\n",
              "        return;\n",
              "      }\n",
              "      const div = document.createElement('div');\n",
              "      const label = document.createElement('label');\n",
              "      label.textContent = `Downloading \"${filename}\": `;\n",
              "      div.appendChild(label);\n",
              "      const progress = document.createElement('progress');\n",
              "      progress.max = size;\n",
              "      div.appendChild(progress);\n",
              "      document.body.appendChild(div);\n",
              "\n",
              "      const buffers = [];\n",
              "      let downloaded = 0;\n",
              "\n",
              "      const channel = await google.colab.kernel.comms.open(id);\n",
              "      // Send a message to notify the kernel that we're ready.\n",
              "      channel.send({})\n",
              "\n",
              "      for await (const message of channel.messages) {\n",
              "        // Send a message to notify the kernel that we're ready.\n",
              "        channel.send({})\n",
              "        if (message.buffers) {\n",
              "          for (const buffer of message.buffers) {\n",
              "            buffers.push(buffer);\n",
              "            downloaded += buffer.byteLength;\n",
              "            progress.value = downloaded;\n",
              "          }\n",
              "        }\n",
              "      }\n",
              "      const blob = new Blob(buffers, {type: 'application/binary'});\n",
              "      const a = document.createElement('a');\n",
              "      a.href = window.URL.createObjectURL(blob);\n",
              "      a.download = filename;\n",
              "      div.appendChild(a);\n",
              "      a.click();\n",
              "      div.remove();\n",
              "    }\n",
              "  "
            ],
            "text/plain": [
              "<IPython.core.display.Javascript object>"
            ]
          },
          "metadata": {
            "tags": []
          }
        },
        {
          "output_type": "display_data",
          "data": {
            "application/javascript": [
              "download(\"download_a5d09c6f-d4bb-479a-85c2-3745b84a9886\", \"data_moviefinal_12.csv\", 6998)"
            ],
            "text/plain": [
              "<IPython.core.display.Javascript object>"
            ]
          },
          "metadata": {
            "tags": []
          }
        }
      ]
    },
    {
      "cell_type": "code",
      "metadata": {
        "colab": {
          "base_uri": "https://localhost:8080/",
          "height": 669
        },
        "id": "mFeST76tHBt2",
        "outputId": "df638572-a41d-4344-868b-e15c3ba589ff"
      },
      "source": [
        "df.head()"
      ],
      "execution_count": null,
      "outputs": [
        {
          "output_type": "execute_result",
          "data": {
            "text/html": [
              "<div>\n",
              "<style scoped>\n",
              "    .dataframe tbody tr th:only-of-type {\n",
              "        vertical-align: middle;\n",
              "    }\n",
              "\n",
              "    .dataframe tbody tr th {\n",
              "        vertical-align: top;\n",
              "    }\n",
              "\n",
              "    .dataframe thead th {\n",
              "        text-align: right;\n",
              "    }\n",
              "</style>\n",
              "<table border=\"1\" class=\"dataframe\">\n",
              "  <thead>\n",
              "    <tr style=\"text-align: right;\">\n",
              "      <th></th>\n",
              "      <th>ID</th>\n",
              "      <th>Poster</th>\n",
              "      <th>Genre</th>\n",
              "      <th>Director</th>\n",
              "      <th>Language</th>\n",
              "      <th>Keywords</th>\n",
              "      <th>Tagline</th>\n",
              "      <th>MPAA</th>\n",
              "      <th>Budget</th>\n",
              "      <th>revenue</th>\n",
              "      <th>Summary</th>\n",
              "      <th>Actors</th>\n",
              "      <th>writer</th>\n",
              "      <th>No_of_Votes</th>\n",
              "      <th>Production_Company</th>\n",
              "    </tr>\n",
              "  </thead>\n",
              "  <tbody>\n",
              "    <tr>\n",
              "      <th>0</th>\n",
              "      <td>tt3365338</td>\n",
              "      <td>https://m.media-amazon.com/images/M/MV5BMTY0NT...</td>\n",
              "      <td>[Horror]</td>\n",
              "      <td>[Kenneth Guertin]</td>\n",
              "      <td>[English]</td>\n",
              "      <td>[See All (1) »]</td>\n",
              "      <td></td>\n",
              "      <td></td>\n",
              "      <td></td>\n",
              "      <td></td>\n",
              "      <td>In this gripping tale of terror, twenty someth...</td>\n",
              "      <td>[Jackson Kuehn, Mary Elizabeth Boylan, Chad Bi...</td>\n",
              "      <td>[Kenneth Guertin (story),  Kenneth Guertin |\\n...</td>\n",
              "      <td>231</td>\n",
              "      <td>[Make Believe Entertainment, Wired Reel Entert...</td>\n",
              "    </tr>\n",
              "    <tr>\n",
              "      <th>1</th>\n",
              "      <td>tt0219908</td>\n",
              "      <td>https://m.media-amazon.com/images/M/MV5BYzQwYz...</td>\n",
              "      <td>[Horror]</td>\n",
              "      <td>[Andrea Bianchi (as Frank Drew White)]</td>\n",
              "      <td>[English]</td>\n",
              "      <td>[slasher, maniac, death cult, prostitutes, See...</td>\n",
              "      <td></td>\n",
              "      <td></td>\n",
              "      <td></td>\n",
              "      <td></td>\n",
              "      <td>A murderous cult kidnaps French prostitutes an...</td>\n",
              "      <td>[Bo Svenson, Chuck Connors, Robert Ginty, See ...</td>\n",
              "      <td>[Georges Friedland (screenplay and dialogue) (...</td>\n",
              "      <td>80</td>\n",
              "      <td>[Eurociné \\nSee more »]</td>\n",
              "    </tr>\n",
              "    <tr>\n",
              "      <th>2</th>\n",
              "      <td>tt0238302</td>\n",
              "      <td>https://m.media-amazon.com/images/M/MV5BZjQzMW...</td>\n",
              "      <td>[Horror |\\n Thriller]</td>\n",
              "      <td>[Colin Eggleston]</td>\n",
              "      <td>[English]</td>\n",
              "      <td>[slasher, australian giallo, giallo, prostitut...</td>\n",
              "      <td>Being terrified is just the beginning.</td>\n",
              "      <td>[Motion Picture Rating\\n                    (M...</td>\n",
              "      <td></td>\n",
              "      <td></td>\n",
              "      <td>A woman living in Dallas discovers that her hu...</td>\n",
              "      <td>[P.J. Soles, Kit Taylor, Grigor Taylor, See fu...</td>\n",
              "      <td>[Ron McLean (based on a screenplay by)]</td>\n",
              "      <td>134</td>\n",
              "      <td>[Crystal Film Corporation, Premiere Film Marke...</td>\n",
              "    </tr>\n",
              "    <tr>\n",
              "      <th>3</th>\n",
              "      <td>tt0496231</td>\n",
              "      <td>https://m.media-amazon.com/images/M/MV5BMTc5Nj...</td>\n",
              "      <td>[Horror]</td>\n",
              "      <td>[David Palmieri]</td>\n",
              "      <td>[English]</td>\n",
              "      <td>[serial killer, maniac, backwood slasher, clow...</td>\n",
              "      <td></td>\n",
              "      <td></td>\n",
              "      <td></td>\n",
              "      <td></td>\n",
              "      <td>A 20-something camping trip goes horribly wron...</td>\n",
              "      <td>[Cassie Daniels, Chris Todd, Jennifer Peo, See...</td>\n",
              "      <td>[Jeremiah Campbell (additional material),  Kei...</td>\n",
              "      <td>81</td>\n",
              "      <td></td>\n",
              "    </tr>\n",
              "    <tr>\n",
              "      <th>4</th>\n",
              "      <td>tt9614972</td>\n",
              "      <td>https://m.media-amazon.com/images/M/MV5BYjJjOW...</td>\n",
              "      <td>[Drama |\\n Horror |\\n Romance]</td>\n",
              "      <td>[Caarthick Raju]</td>\n",
              "      <td>[Tamil]</td>\n",
              "      <td></td>\n",
              "      <td></td>\n",
              "      <td></td>\n",
              "      <td></td>\n",
              "      <td></td>\n",
              "      <td>Add a Plot »</td>\n",
              "      <td>[Poornima Bhagyaraj, Sundeep Kishan, Anya Singh]</td>\n",
              "      <td>[]</td>\n",
              "      <td>None</td>\n",
              "      <td></td>\n",
              "    </tr>\n",
              "  </tbody>\n",
              "</table>\n",
              "</div>"
            ],
            "text/plain": [
              "          ID  ...                                 Production_Company\n",
              "0  tt3365338  ...  [Make Believe Entertainment, Wired Reel Entert...\n",
              "1  tt0219908  ...                            [Eurociné \\nSee more »]\n",
              "2  tt0238302  ...  [Crystal Film Corporation, Premiere Film Marke...\n",
              "3  tt0496231  ...                                                   \n",
              "4  tt9614972  ...                                                   \n",
              "\n",
              "[5 rows x 15 columns]"
            ]
          },
          "metadata": {
            "tags": []
          },
          "execution_count": 13
        }
      ]
    },
    {
      "cell_type": "code",
      "metadata": {
        "id": "CvaDY0KrxY6V"
      },
      "source": [
        ""
      ],
      "execution_count": null,
      "outputs": []
    }
  ]
}